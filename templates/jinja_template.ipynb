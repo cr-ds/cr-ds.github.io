{
 "cells": [
  {
   "cell_type": "markdown",
   "metadata": {},
   "source": [
    "## Template for creating the jinja cell to generate the html file.\n",
    "All things within <> has to be replaced with the right name.   \n",
    "For \\<NameOfTopic\\> it is important to take over the part of the file name of the corresponding template."
   ]
  },
  {
   "cell_type": "code",
   "execution_count": null,
   "metadata": {},
   "outputs": [],
   "source": [
    "# from jinja2 import Template\n",
    "# import os\n",
    "\n",
    "# input_template_path = os.path.join(script_dir, '..\\Website\\\\templates\\\\template_<NameOfTopic>.html')\n",
    "# output_html_path = os.path.join(script_dir, '..\\Website\\\\html\\\\<NameOfTopic>.html')\n",
    "\n",
    "# plotly_jinja_data = {'<NameOfFirstPlaceholderInHTML>': <NameOfFirstFigure>.to_html(full_html=False)\n",
    "#                      , '<NameOfSecondPlaceholderInHTML>': <NameOfFirstFigure>.to_html(full_html=False)\n",
    "#                      , and more with this scheme...\n",
    "#                      }\n",
    "\n",
    "# with open(output_html_path, \"w\", encoding=\"utf-8\") as output_file:\n",
    "#     with open(input_template_path) as template_file:\n",
    "#         j2_template = Template(template_file.read())\n",
    "#         output_file.write(j2_template.render(plotly_jinja_data))"
   ]
  }
 ],
 "metadata": {
  "language_info": {
   "name": "python"
  },
  "orig_nbformat": 4
 },
 "nbformat": 4,
 "nbformat_minor": 2
}
