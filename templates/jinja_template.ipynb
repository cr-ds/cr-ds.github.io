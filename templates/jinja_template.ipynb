{
 "cells": [
  {
   "cell_type": "markdown",
   "metadata": {},
   "source": [
    "## Template for creating the jinja cell to generate the html file.\n",
    "All things within <> has to be replaced with the right name.   \n",
    "For \\<ScriptName\\> please take over the script name of the jupyter notebook you are using this cell in."
   ]
  },
  {
   "cell_type": "code",
   "execution_count": null,
   "metadata": {},
   "outputs": [],
   "source": [
    "# from jinja2 import Template\n",
    "# import os\n",
    "\n",
    "# plots = [('<ScriptName>_plot1',<VariableOfFirstFigure>), ('<ScriptName>_plot2',<VariableOfSecondFigure>), ...]\n",
    "\n",
    "# input_template_path = os.path.join(script_dir, '..\\Website\\\\templates\\\\plot_template.html')\n",
    "\n",
    "# for filename, plot in plots:\n",
    "#     output_html_path = os.path.join(script_dir, '..\\Website\\\\plots\\\\' + filename + '.html')\n",
    "\n",
    "#     plotly_jinja_data = {\"fig\": plot.to_html(full_html=False)}\n",
    "\n",
    "#     with open(output_html_path, \"w\", encoding=\"utf-8\") as output_file:\n",
    "#         with open(input_template_path) as template_file:\n",
    "#             j2_template = Template(template_file.read())\n",
    "#             output_file.write(j2_template.render(plotly_jinja_data))"
   ]
  }
 ],
 "metadata": {
  "language_info": {
   "name": "python"
  },
  "orig_nbformat": 4
 },
 "nbformat": 4,
 "nbformat_minor": 2
}
